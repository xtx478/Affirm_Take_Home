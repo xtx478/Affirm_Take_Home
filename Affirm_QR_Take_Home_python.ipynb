{
 "cells": [
  {
   "cell_type": "code",
   "execution_count": 12,
   "id": "7d03fc5a",
   "metadata": {},
   "outputs": [],
   "source": [
    "import sys\n",
    "import math\n",
    "import pandas as pd\n",
    "import numpy as np"
   ]
  },
  {
   "cell_type": "code",
   "execution_count": 13,
   "id": "cb857490",
   "metadata": {},
   "outputs": [],
   "source": [
    "merchant_category_path = '/Users/xtx/Affirm_QR_Take_Home/merchant_category_mapping.csv'\n",
    "merchant_name_mapping_path = '/Users/xtx/Affirm_QR_Take_Home/merchant_name_mapping.csv'\n",
    "perf_dataset_path = '/Users/xtx/Affirm_QR_Take_Home/performance_dataset.csv'"
   ]
  },
  {
   "cell_type": "code",
   "execution_count": 14,
   "id": "4b7d45db-648f-48e7-9a13-a75b94b2d08e",
   "metadata": {},
   "outputs": [],
   "source": [
    "merchant_category = pd.read_csv(merchant_category_path)\n",
    "merchant_name_mapping = pd.read_csv(merchant_name_mapping_path)\n",
    "perf_dataset = pd.read_csv(perf_dataset_path)\n",
    "\n",
    "df_merge=perf_dataset.merge(merchant_name_mapping, on='merchant_id', how='left')\n",
    "df_merge=perf_dataset.merge(merchant_category, on='merchant_id', how='left')"
   ]
  },
  {
   "cell_type": "code",
   "execution_count": 15,
   "id": "8ddece6d-256f-4544-bf5b-5340e3f8a6b2",
   "metadata": {},
   "outputs": [
    {
     "name": "stdout",
     "output_type": "stream",
     "text": [
      "   merchant_id  actual_repayment_pct  predicted_repayment_pct  num_trxn  \\\n",
      "0        78986              0.927466                 0.948425      6331   \n",
      "1        54871              0.983798                 0.978641      3293   \n",
      "2        86469              0.936782                 0.965042      2670   \n",
      "3        42719              0.961743                 0.945634       570   \n",
      "4        40242              0.867273                 0.902408       317   \n",
      "\n",
      "   avg_auth_amt  avg_loan_amt  avg_fico  avg_term   avg_apr          category  \\\n",
      "0    491.650278    473.727737       643         8  0.251198    WOMENS_FASHION   \n",
      "1    862.996710    862.555109       715         6  0.000000  HOME_FURNISHINGS   \n",
      "2    636.689936    620.229734       664         8  0.214657               NaN   \n",
      "3    719.714054    692.877934       655        10  0.257577             OTHER   \n",
      "4    380.978427    374.832065       626         9  0.160714           JEWELRY   \n",
      "\n",
      "                                       subcategory  pred_diff  \\\n",
      "0                 Women's Clothing Stores - 448120   0.020959   \n",
      "1                        Furniture Stores - 442110  -0.005157   \n",
      "2                 Women's Clothing Stores - 448120   0.028261   \n",
      "3  Musical Instrument and Supplies Stores - 451140  -0.016109   \n",
      "4                          Jewelry Stores - 448310   0.035135   \n",
      "\n",
      "   dollar_pred_diff  $_loan_total     int_income       bad_loss            pnl  \n",
      "0      62858.614655  2.999170e+06  502257.054506  217541.674794  284715.379713  \n",
      "1     -14647.337964  2.840394e+06       0.000000   46019.497927  -46019.497927  \n",
      "2      46800.249958  1.656013e+06  236983.244140  104690.548345  132292.695795  \n",
      "3      -6361.904113  3.949404e+05   84772.974313   15109.330525   69663.643788  \n",
      "4       4174.796283  1.188218e+05   14322.240808   15770.896394   -1448.655586  \n"
     ]
    }
   ],
   "source": [
    "df_merge['pred_diff'] = df_merge['predicted_repayment_pct']-df_merge['actual_repayment_pct']\n",
    "df_merge['dollar_pred_diff'] = df_merge['pred_diff'] * df_merge['num_trxn'] * df_merge['avg_loan_amt']\n",
    "df_merge['$_loan_total']= df_merge['num_trxn'] * df_merge['avg_loan_amt']\n",
    "df_merge['int_income'] = df_merge['$_loan_total'] * df_merge['avg_apr'] * df_merge['avg_term']/12\n",
    "df_merge['bad_loss'] = (1-df_merge['actual_repayment_pct'])*df_merge['$_loan_total']\n",
    "df_merge['pnl'] = df_merge['int_income'] - df_merge['bad_loss']\n",
    "print(df_merge.head())"
   ]
  },
  {
   "cell_type": "code",
   "execution_count": 16,
   "id": "43161b19-c311-47c2-adc3-74ae2dff10df",
   "metadata": {},
   "outputs": [
    {
     "name": "stdout",
     "output_type": "stream",
     "text": [
      "Total Over prediction : $ 155270.61790686258\n",
      "% of over prediction :  1.3986898510558483\n"
     ]
    }
   ],
   "source": [
    "print(\"Total Over prediction : $\", df_merge['dollar_pred_diff'].sum())\n",
    "print(\"% of over prediction : \", (df_merge['dollar_pred_diff'].sum()/(df_merge['$_loan_total'].sum())*100))"
   ]
  },
  {
   "cell_type": "code",
   "execution_count": 17,
   "id": "b2c5e5f6-8351-4b7f-af35-a6e95ae3b951",
   "metadata": {},
   "outputs": [
    {
     "name": "stdout",
     "output_type": "stream",
     "text": [
      "DESCRIPTIVE STATISTICS : OVER Prediction\n",
      "\n",
      "        predicted_repayment_pct  actual_repayment_pct  pred_diff\n",
      "count                55.000000             55.000000  55.000000\n",
      "mean                  0.933767              0.797435   0.136332\n",
      "std                   0.046910              0.221310   0.202763\n",
      "min                   0.707895              0.000000   0.002636\n",
      "25%                   0.928326              0.815830   0.033732\n",
      "50%                   0.947439              0.867273   0.073108\n",
      "75%                   0.959642              0.922428   0.127173\n",
      "max                   0.974091              0.969390   0.950731\n",
      "\n",
      "DESCRIPTIVE STATISTICS : UNDER Prediction \n",
      "\n",
      "        predicted_repayment_pct  actual_repayment_pct  pred_diff\n",
      "count                88.000000             88.000000  88.000000\n",
      "mean                  0.942248              0.989509  -0.047261\n",
      "std                   0.040082              0.023499   0.041997\n",
      "min                   0.715887              0.882083  -0.284113\n",
      "25%                   0.936586              1.000000  -0.057297\n",
      "50%                   0.951471              1.000000  -0.039904\n",
      "75%                   0.964403              1.000000  -0.023056\n",
      "max                   0.989278              1.000000  -0.001345\n"
     ]
    }
   ],
   "source": [
    "df_overpredict = df_merge.query('predicted_repayment_pct > actual_repayment_pct')\n",
    "df_underpredict = df_merge.query('predicted_repayment_pct < actual_repayment_pct')\n",
    "print(\"DESCRIPTIVE STATISTICS : OVER Prediction\\n\\n\", df_overpredict[['predicted_repayment_pct', 'actual_repayment_pct', 'pred_diff']].describe())\n",
    "print(\"\\nDESCRIPTIVE STATISTICS : UNDER Prediction \\n\\n\",df_underpredict[['predicted_repayment_pct', 'actual_repayment_pct', 'pred_diff']].describe())"
   ]
  },
  {
   "cell_type": "code",
   "execution_count": 18,
   "id": "7bee6192-0062-4910-b833-045031479b3a",
   "metadata": {},
   "outputs": [
    {
     "name": "stdout",
     "output_type": "stream",
     "text": [
      "Top 10 Profitable Merchants :\n",
      "\n",
      "\n",
      "    merchant_id  actual_repayment_pct  predicted_repayment_pct  num_trxn  \\\n",
      "0         78986              0.927466                 0.948425      6331   \n",
      "2         86469              0.936782                 0.965042      2670   \n",
      "3         42719              0.961743                 0.945634       570   \n",
      "10        53810              0.948553                 0.963008       164   \n",
      "24        13615              0.965838                 0.972367        59   \n",
      "14        37889              0.944777                 0.937538       141   \n",
      "15        47974              0.952664                 0.946363       107   \n",
      "11        12368              0.893519                 0.947609       161   \n",
      "20        36413              0.973708                 0.958271        77   \n",
      "17        67386              0.937309                 0.922502        89   \n",
      "\n",
      "    avg_auth_amt  avg_loan_amt  avg_fico  avg_term   avg_apr  \\\n",
      "0     491.650278    473.727737       643         8  0.251198   \n",
      "2     636.689936    620.229734       664         8  0.214657   \n",
      "3     719.714054    692.877934       655        10  0.257577   \n",
      "10   1289.526452   1218.853333       655        10  0.256574   \n",
      "24   1899.973205   1827.793846       671        10  0.250371   \n",
      "14    694.398288    681.456756       638        10  0.283420   \n",
      "15   1177.122222   1119.844444       680         9  0.249985   \n",
      "11   1010.457003    976.891167       660        10  0.245087   \n",
      "20   1070.239508   1049.200573       672        10  0.251766   \n",
      "17   1018.673585    978.281969       646        10  0.256605   \n",
      "\n",
      "            category                                        subcategory  \\\n",
      "0     WOMENS_FASHION                   Women's Clothing Stores - 448120   \n",
      "2                NaN                   Women's Clothing Stores - 448120   \n",
      "3              OTHER    Musical Instrument and Supplies Stores - 451140   \n",
      "10  HOME_FURNISHINGS                          Furniture Stores - 442110   \n",
      "24  HOME_FURNISHINGS                          Furniture Stores - 442110   \n",
      "14             OTHER                               Shoe Stores - 448210   \n",
      "15  PERSONAL_SERVICE                       Offices of Dentists - 621210   \n",
      "11             OTHER  All Other Health and Personal Care Stores - 44...   \n",
      "20             OTHER    Musical Instrument and Supplies Stores - 451140   \n",
      "17           JEWELRY                            Jewelry Stores - 448310   \n",
      "\n",
      "    pred_diff  dollar_pred_diff  $_loan_total     int_income       bad_loss  \\\n",
      "0    0.020959      62858.614655  2.999170e+06  502257.054506  217541.674794   \n",
      "2    0.028261      46800.249958  1.656013e+06  236983.244140  104690.548345   \n",
      "3   -0.016109      -6361.904113  3.949404e+05   84772.974313   15109.330525   \n",
      "10   0.014455       2889.385117  1.998919e+05   42739.230258   10283.814792   \n",
      "24   0.006530        704.160597  1.078398e+05   22499.973173    3684.075733   \n",
      "14  -0.007239       -695.595475  9.608540e+04   22693.770670    5306.090269   \n",
      "15  -0.006301       -755.015590  1.198234e+05   22465.531145    5671.945415   \n",
      "11   0.054089       8507.120349  1.572795e+05   32122.629497   16747.206410   \n",
      "20  -0.015437      -1247.101078  8.078844e+04   16949.819519    2124.108273   \n",
      "17  -0.014807      -1289.195427  8.706710e+04   18618.209979    5458.359749   \n",
      "\n",
      "              pnl  \n",
      "0   284715.379713  \n",
      "2   132292.695795  \n",
      "3    69663.643788  \n",
      "10   32455.415467  \n",
      "24   18815.897441  \n",
      "14   17387.680400  \n",
      "15   16793.585730  \n",
      "11   15375.423087  \n",
      "20   14825.711245  \n",
      "17   13159.850230  \n"
     ]
    }
   ],
   "source": [
    "df_merge=df_merge.sort_values(by=['pnl'], ascending=False)\n",
    "print(\"Top 10 Profitable Merchants :\\n\\n\")\n",
    "print(df_merge[:10])"
   ]
  },
  {
   "cell_type": "code",
   "execution_count": 19,
   "id": "9eb77418-8606-4ac9-8882-96496f08e733",
   "metadata": {},
   "outputs": [
    {
     "name": "stdout",
     "output_type": "stream",
     "text": [
      "Top 10 Loss making Merchants :\n",
      "\n",
      "\n",
      "     merchant_id  actual_repayment_pct  predicted_repayment_pct  num_trxn  \\\n",
      "115        81395              0.500000                 0.953412         2   \n",
      "7          27822              0.855525                 0.916094       221   \n",
      "33         26696              0.969390                 0.974091        35   \n",
      "4          40242              0.867273                 0.902408       317   \n",
      "5          11801              0.822480                 0.900832       309   \n",
      "35         83349              0.739957                 0.929764        33   \n",
      "27         76187              0.941740                 0.973775        49   \n",
      "34         40512              0.714083                 0.926887        33   \n",
      "19         37559              0.974491                 0.964564        88   \n",
      "1          54871              0.983798                 0.978641      3293   \n",
      "\n",
      "     avg_auth_amt  avg_loan_amt  avg_fico  avg_term   avg_apr  \\\n",
      "115   1232.500000   1207.916666       674        11  0.250000   \n",
      "7      182.208405    181.451697       649         6  0.241192   \n",
      "33    2061.526987   1972.234698       684        10  0.015310   \n",
      "4      380.978427    374.832065       626         9  0.160714   \n",
      "5      179.416385    177.013298       645         7  0.248620   \n",
      "35     625.184705    625.184705       649        10  0.160000   \n",
      "27    1285.399600   1261.919733       684        10  0.000000   \n",
      "34     857.749811    785.990943       628        10  0.141596   \n",
      "19    2886.273146   2763.673706       701        10  0.008769   \n",
      "1      862.996710    862.555109       715         6  0.000000   \n",
      "\n",
      "             category                                      subcategory  \\\n",
      "115             OTHER                   Sporting Goods Stores - 451110   \n",
      "7      WOMENS_FASHION             Clothing Accessories Stores - 448150   \n",
      "33   HOME_FURNISHINGS                        Furniture Stores - 442110   \n",
      "4             JEWELRY                          Jewelry Stores - 448310   \n",
      "5      WOMENS_FASHION                 Women's Clothing Stores - 448120   \n",
      "35              OTHER             Hobby, Toy, and Game Stores - 451120   \n",
      "27   HOME_FURNISHINGS                        Furniture Stores - 442110   \n",
      "34              OTHER  Musical Instrument and Supplies Stores - 451140   \n",
      "19              OTHER                   Sporting Goods Stores - 451110   \n",
      "1    HOME_FURNISHINGS                        Furniture Stores - 442110   \n",
      "\n",
      "     pred_diff  dollar_pred_diff  $_loan_total    int_income      bad_loss  \\\n",
      "115   0.453412       1095.367291  2.415833e+03    553.628472   1207.916666   \n",
      "7     0.060569       2428.876496  4.010083e+04   4835.999096   5793.581936   \n",
      "33    0.004701        324.491075  6.902821e+04    880.684969   2112.965586   \n",
      "4     0.035135       4174.796283  1.188218e+05  14322.240808  15770.896394   \n",
      "5     0.078352       4285.635001  5.469711e+04   7932.630568   9709.811715   \n",
      "35    0.189807       3915.933272  2.063110e+04   2750.812702   5364.980344   \n",
      "27    0.032035       1980.826818  6.183407e+04      0.000000   3602.422811   \n",
      "34    0.212804       5519.651529  2.593770e+04   3060.562273   7416.024918   \n",
      "19   -0.009927      -2414.261997  2.432033e+05   1777.208013   6203.891109   \n",
      "1    -0.005157     -14647.337964  2.840394e+06      0.000000  46019.497927   \n",
      "\n",
      "              pnl  \n",
      "115   -654.288194  \n",
      "7     -957.582839  \n",
      "33   -1232.280616  \n",
      "4    -1448.655586  \n",
      "5    -1777.181147  \n",
      "35   -2614.167642  \n",
      "27   -3602.422811  \n",
      "34   -4355.462645  \n",
      "19   -4426.683096  \n",
      "1   -46019.497927  \n"
     ]
    }
   ],
   "source": [
    "print(\"Top 10 Loss making Merchants :\\n\\n\")\n",
    "print(df_merge[-10:])"
   ]
  },
  {
   "cell_type": "raw",
   "id": "d0e95847-f2f9-4a54-a8a1-1a1246ec4341",
   "metadata": {},
   "source": [
    "END"
   ]
  }
 ],
 "metadata": {
  "kernelspec": {
   "display_name": "Python 3 (ipykernel)",
   "language": "python",
   "name": "python3"
  },
  "language_info": {
   "codemirror_mode": {
    "name": "ipython",
    "version": 3
   },
   "file_extension": ".py",
   "mimetype": "text/x-python",
   "name": "python",
   "nbconvert_exporter": "python",
   "pygments_lexer": "ipython3",
   "version": "3.9.7"
  }
 },
 "nbformat": 4,
 "nbformat_minor": 5
}
